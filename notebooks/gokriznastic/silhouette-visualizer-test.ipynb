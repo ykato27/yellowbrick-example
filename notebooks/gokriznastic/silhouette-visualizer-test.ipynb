{
 "cells": [
  {
   "cell_type": "code",
   "execution_count": 1,
   "metadata": {},
   "outputs": [],
   "source": [
    "%load_ext lab_black"
   ]
  },
  {
   "cell_type": "code",
   "execution_count": 2,
   "metadata": {},
   "outputs": [],
   "source": [
    "import os\n",
    "import sys\n",
    "\n",
    "import yellowbrick as yb\n",
    "import matplotlib.ticker as ticker\n",
    "import matplotlib.pyplot as plt"
   ]
  },
  {
   "cell_type": "code",
   "execution_count": 3,
   "metadata": {},
   "outputs": [
    {
     "name": "stderr",
     "output_type": "stream",
     "text": [
      "findfont: Font family ['sans-serif'] not found. Falling back to DejaVu Sans.\n",
      "findfont: Generic family 'sans-serif' not found because none of the following families were found: Arial, Liberation Sans, Bitstream Vera Sans, sans-serif\n"
     ]
    },
    {
     "data": {
      "image/png": "[encoded data removed]",
      "text/plain": [
       "<Figure size 576x432 with 1 Axes>"
      ]
     },
     "metadata": {},
     "output_type": "display_data"
    }
   ],
   "source": [
    "# Setup a plot such that only the bottom spine is shown\n",
    "def setup(ax):\n",
    "    ax.spines[\"right\"].set_color(\"none\")\n",
    "    ax.spines[\"left\"].set_color(\"none\")\n",
    "    ax.yaxis.set_major_locator(ticker.NullLocator())\n",
    "    ax.spines[\"top\"].set_color(\"none\")\n",
    "    ax.xaxis.set_ticks_position(\"bottom\")\n",
    "    ax.tick_params(which=\"major\", width=1.00)\n",
    "    ax.tick_params(which=\"major\", length=5)\n",
    "    ax.tick_params(which=\"minor\", width=0.75)\n",
    "    ax.tick_params(which=\"minor\", length=2.5)\n",
    "    ax.set_xlim(0, 5)\n",
    "    ax.set_ylim(0, 1)\n",
    "    ax.patch.set_alpha(0.0)\n",
    "\n",
    "\n",
    "plt.figure(figsize=(8, 6))\n",
    "n = 8\n",
    "\n",
    "# Multiple Locator\n",
    "ax_ = plt.subplot(n, 1, 2)\n",
    "setup(ax_)\n",
    "ax_.xaxis.set_major_locator(ticker.MultipleLocator(0.5))\n",
    "# ax_.xaxis.set_minor_locator(ticker.MultipleLocator(0.1))\n",
    "# ax_.text(0.0, 0.1, \"MultipleLocator(0.5)\", fontsize=14, transform=ax_.transAxes)"
   ]
  },
  {
   "cell_type": "code",
   "execution_count": 4,
   "metadata": {},
   "outputs": [],
   "source": [
    "# yellowbrick.cluster.silhouette\n",
    "# Implements visualizers using the silhouette metric for cluster evaluation.\n",
    "#\n",
    "# Author:   Benjamin Bengfort <bbengfort@districtdatalabs.com>\n",
    "# Created:  Mon Mar 27 10:09:24 2017 -0400\n",
    "#\n",
    "# Copyright (C) 2016 District Data Labs\n",
    "# For license information, see LICENSE.txt\n",
    "#\n",
    "# ID: silhouette.py [57b563b] benjamin@bengfort.com $\n",
    "\n",
    "\"\"\"\n",
    "Implements visualizers that use the silhouette metric for cluster evaluation.\n",
    "\"\"\"\n",
    "\n",
    "##########################################################################\n",
    "## Imports\n",
    "##########################################################################\n",
    "\n",
    "import numpy as np\n",
    "\n",
    "from yellowbrick.style import color_palette\n",
    "from yellowbrick.cluster.base import ClusteringScoreVisualizer\n",
    "\n",
    "from sklearn.metrics import silhouette_score, silhouette_samples\n",
    "\n",
    "\n",
    "## Packages for export\n",
    "__all__ = [\"SilhouetteVisualizer\"]\n",
    "\n",
    "\n",
    "##########################################################################\n",
    "## Silhouette Method for K Selection\n",
    "##########################################################################\n",
    "\n",
    "\n",
    "class SilhouetteVisualizer(ClusteringScoreVisualizer):\n",
    "    \"\"\"\n",
    "    The Silhouette Visualizer displays the silhouette coefficient for each\n",
    "    sample on a per-cluster basis, visually evaluating the density and\n",
    "    separation between clusters. The score is calculated by averaging the\n",
    "    silhouette coefficient for each sample, computed as the difference\n",
    "    between the average intra-cluster distance and the mean nearest-cluster\n",
    "    distance for each sample, normalized by the maximum value. This produces a\n",
    "    score between -1 and +1, where scores near +1 indicate high separation\n",
    "    and scores near -1 indicate that the samples may have been assigned to\n",
    "    the wrong cluster.\n",
    "\n",
    "    In SilhouetteVisualizer plots, clusters with higher scores have wider\n",
    "    silhouettes, but clusters that are less cohesive will fall short of the\n",
    "    average score across all clusters, which is plotted as a vertical dotted\n",
    "    red line.\n",
    "\n",
    "    This is particularly useful for determining cluster imbalance, or for\n",
    "    selecting a value for K by comparing multiple visualizers.\n",
    "\n",
    "    Parameters\n",
    "    ----------\n",
    "    model : a Scikit-Learn clusterer\n",
    "        Should be an instance of a centroidal clustering algorithm (``KMeans``\n",
    "        or ``MiniBatchKMeans``).\n",
    "\n",
    "    ax : matplotlib Axes, default: None\n",
    "        The axes to plot the figure on. If None is passed in the current axes\n",
    "        will be used (or generated if required).\n",
    "\n",
    "    kwargs : dict\n",
    "        Keyword arguments that are passed to the base class and may influence\n",
    "        the visualization as defined in other Visualizers.\n",
    "\n",
    "    Attributes\n",
    "    ----------\n",
    "    silhouette_score_ : float\n",
    "        Mean Silhouette Coefficient for all samples. Computed via scikit-learn\n",
    "        `sklearn.metrics.silhouette_score`.\n",
    "\n",
    "    silhouette_samples_ : array, shape = [n_samples]\n",
    "        Silhouette Coefficient for each samples. Computed via scikit-learn\n",
    "        `sklearn.metrics.silhouette_samples`.\n",
    "\n",
    "    n_samples_ : integer\n",
    "        Number of total samples in the dataset (X.shape[0])\n",
    "\n",
    "    n_clusters_ : integer\n",
    "        Number of clusters (e.g. n_clusters or k value) passed to internal\n",
    "        scikit-learn model.\n",
    "\n",
    "    Examples\n",
    "    --------\n",
    "\n",
    "    >>> from yellowbrick.cluster import SilhouetteVisualizer\n",
    "    >>> from sklearn.cluster import KMeans\n",
    "    >>> model = SilhouetteVisualizer(KMeans(10))\n",
    "    >>> model.fit(X)\n",
    "    >>> model.show()\n",
    "    \"\"\"\n",
    "\n",
    "    def __init__(self, model, ax=None, **kwargs):\n",
    "        super(SilhouetteVisualizer, self).__init__(model, ax=ax, **kwargs)\n",
    "\n",
    "        # Visual Properties\n",
    "        # TODO: Fix the color handling\n",
    "        self.colormap = kwargs.get(\"colormap\", \"set1\")\n",
    "        self.color = kwargs.get(\"color\", None)\n",
    "\n",
    "    def fit(self, X, y=None, **kwargs):\n",
    "        \"\"\"\n",
    "        Fits the model and generates the silhouette visualization.\n",
    "        \"\"\"\n",
    "        # TODO: decide to use this method or the score method to draw.\n",
    "        # NOTE: Probably this would be better in score, but the standard score\n",
    "        # is a little different and I'm not sure how it's used.\n",
    "\n",
    "        # Fit the wrapped estimator\n",
    "        self.estimator.fit(X, y, **kwargs)\n",
    "\n",
    "        # Get the properties of the dataset\n",
    "        self.n_samples_ = X.shape[0]\n",
    "        self.n_clusters_ = self.estimator.n_clusters\n",
    "\n",
    "        # Compute the scores of the cluster\n",
    "        labels = self.estimator.predict(X)\n",
    "        self.silhouette_score_ = silhouette_score(X, labels)\n",
    "        self.silhouette_samples_ = silhouette_samples(X, labels)\n",
    "\n",
    "        # Draw the silhouette figure\n",
    "        self.draw(labels)\n",
    "\n",
    "        # Return the estimator\n",
    "        return self\n",
    "\n",
    "    def draw(self, labels):\n",
    "        \"\"\"\n",
    "        Draw the silhouettes for each sample and the average score.\n",
    "\n",
    "        Parameters\n",
    "        ----------\n",
    "\n",
    "        labels : array-like\n",
    "            An array with the cluster label for each silhouette sample,\n",
    "            usually computed with ``predict()``. Labels are not stored on the\n",
    "            visualizer so that the figure can be redrawn with new data.\n",
    "        \"\"\"\n",
    "\n",
    "        # Track the positions of the lines being drawn\n",
    "        y_lower = 10  # The bottom of the silhouette\n",
    "\n",
    "        # Get the colors from the various properties\n",
    "        # TODO: Use resolve_colors instead of this\n",
    "        colors = color_palette(self.colormap, self.n_clusters_)\n",
    "\n",
    "        # For each cluster, plot the silhouette scores\n",
    "        for idx in range(self.n_clusters_):\n",
    "\n",
    "            # Collect silhouette scores for samples in the current cluster .\n",
    "            values = self.silhouette_samples_[labels == idx]\n",
    "            values.sort()\n",
    "\n",
    "            # Compute the size of the cluster and find upper limit\n",
    "            size = values.shape[0]\n",
    "            y_upper = y_lower + size\n",
    "\n",
    "            color = colors[idx]\n",
    "            self.ax.fill_betweenx(\n",
    "                np.arange(y_lower, y_upper),\n",
    "                0,\n",
    "                values,\n",
    "                facecolor=color,\n",
    "                edgecolor=color,\n",
    "                alpha=0.5,\n",
    "            )\n",
    "\n",
    "            # Label the silhouette plots with their cluster numbers\n",
    "            self.ax.text(-0.05, y_lower + 0.5 * size, str(idx))\n",
    "\n",
    "            # Compute the new y_lower for next plot\n",
    "            y_lower = y_upper + 10\n",
    "\n",
    "        # The vertical line for average silhouette score of all the values\n",
    "        self.ax.axvline(x=self.silhouette_score_, color=\"red\", linestyle=\"--\")\n",
    "\n",
    "        return self.ax\n",
    "\n",
    "    def finalize(self):\n",
    "        \"\"\"\n",
    "        Prepare the figure for rendering by setting the title and adjusting\n",
    "        the limits on the axes, adding labels and a legend.\n",
    "        \"\"\"\n",
    "\n",
    "        # Set the title\n",
    "        self.set_title(\n",
    "            (\"Silhouette Plot of {} Clustering for {} Samples in {} Centers\").format(\n",
    "                self.name, self.n_samples_, self.n_clusters_\n",
    "            )\n",
    "        )\n",
    "\n",
    "        # Set the X and Y limits\n",
    "        # The silhouette coefficient can range from -1, 1;\n",
    "        # but here we scale the plot according to our visualizations\n",
    "\n",
    "        # l_xlim and u_xlim are lower and upper limits of the x-axis,\n",
    "        # set according to our calculated maximum and minimum silhouette score along with necessary padding\n",
    "        l_xlim = max(-1, min(-0.1, round(min(self.silhouette_samples_) - 0.1, 1)))\n",
    "        u_xlim = min(1, round(max(self.silhouette_samples_) + 0.1, 1))\n",
    "        self.ax.set_xlim([l_xlim, u_xlim])\n",
    "\n",
    "        # The (n_clusters_+1)*10 is for inserting blank space between\n",
    "        # silhouette plots of individual clusters, to demarcate them clearly.\n",
    "        self.ax.set_ylim([0, self.n_samples_ + (self.n_clusters_ + 1) * 10])\n",
    "\n",
    "        # Set the x and y labels\n",
    "        self.ax.set_xlabel(\"silhouette coefficient values\")\n",
    "        self.ax.set_ylabel(\"cluster label\")\n",
    "\n",
    "        # Set the ticks on the axis object.\n",
    "        self.ax.set_yticks([])  # Clear the yaxis labels / ticks\n",
    "        self.ax.xaxis.set_major_locator(\n",
    "            ticker.MultipleLocator(0.1)\n",
    "        )  # Set the ticks at multiples of 0.1"
   ]
  },
  {
   "cell_type": "code",
   "execution_count": 5,
   "metadata": {},
   "outputs": [],
   "source": [
    "from sklearn.datasets import make_blobs\n",
    "\n",
    "# Make blobs dataset\n",
    "X, y = make_blobs(\n",
    "    n_samples=1000, n_features=12, centers=8, shuffle=False, random_state=0\n",
    ")"
   ]
  },
  {
   "cell_type": "code",
   "execution_count": 6,
   "metadata": {},
   "outputs": [
    {
     "name": "stderr",
     "output_type": "stream",
     "text": [
      "findfont: Font family ['sans-serif'] not found. Falling back to DejaVu Sans.\n",
      "findfont: Generic family 'sans-serif' not found because none of the following families were found: Arial, Liberation Sans, Bitstream Vera Sans, sans-serif\n",
      "findfont: Font family ['sans-serif'] not found. Falling back to DejaVu Sans.\n",
      "findfont: Generic family 'sans-serif' not found because none of the following families were found: Arial, Liberation Sans, Bitstream Vera Sans, sans-serif\n"
     ]
    },
    {
     "data": {
      "image/png": "[encoded data removed]",
      "text/plain": [
       "<Figure size 576x396 with 1 Axes>"
      ]
     },
     "metadata": {},
     "output_type": "display_data"
    },
    {
     "data": {
      "text/plain": [
       "<AxesSubplot:title={'center':'Silhouette Plot of KMeans Clustering for 1000 Samples in 8 Centers'}, xlabel='silhouette coefficient values', ylabel='cluster label'>"
      ]
     },
     "execution_count": 6,
     "metadata": {},
     "output_type": "execute_result"
    }
   ],
   "source": [
    "from sklearn.cluster import KMeans\n",
    "\n",
    "# Instantiate the clustering model and visualizer\n",
    "fig = plt.figure()\n",
    "ax = fig.add_subplot()\n",
    "\n",
    "model = KMeans(random_state=0)\n",
    "visualizer = SilhouetteVisualizer(model, ax=ax)\n",
    "\n",
    "visualizer.fit(X)  # Fit the training data to the visualizer\n",
    "visualizer.show()  # Draw/show/show the data"
   ]
  },
  {
   "cell_type": "code",
   "execution_count": 7,
   "metadata": {},
   "outputs": [
    {
     "data": {
      "text/plain": [
       "<AxesSubplot:title={'center':'Silhouette Plot of KMeans Clustering for 1000 Samples in 2 Centers'}, xlabel='silhouette coefficient values', ylabel='cluster label'>"
      ]
     },
     "execution_count": 7,
     "metadata": {},
     "output_type": "execute_result"
    }
   ],
   "source": [
    "model = KMeans(n_clusters=2, random_state=0)\n",
    "visualizer = SilhouetteVisualizer(model, ax=ax)\n",
    "\n",
    "visualizer.fit(X)  # Fit the training data to the visualizer\n",
    "visualizer.show()  # Draw/show/show the data"
   ]
  },
  {
   "cell_type": "code",
   "execution_count": 8,
   "metadata": {},
   "outputs": [
    {
     "data": {
      "image/png": "[encoded data removed]",
      "text/plain": [
       "<Figure size 576x396 with 1 Axes>"
      ]
     },
     "metadata": {},
     "output_type": "display_data"
    },
    {
     "data": {
      "text/plain": [
       "<AxesSubplot:title={'center':'Silhouette Plot of MiniBatchKMeans Clustering for 1000 Samples in 8 Centers'}, xlabel='silhouette coefficient values', ylabel='cluster label'>"
      ]
     },
     "execution_count": 8,
     "metadata": {},
     "output_type": "execute_result"
    }
   ],
   "source": [
    "from sklearn.cluster import MiniBatchKMeans\n",
    "\n",
    "# Instantiate the clustering model and visualizer\n",
    "fig = plt.figure()\n",
    "ax = fig.add_subplot()\n",
    "\n",
    "model = MiniBatchKMeans(random_state=0)\n",
    "visualizer = SilhouetteVisualizer(model, ax=ax)\n",
    "\n",
    "visualizer.fit(X)  # Fit the training data to the visualizer\n",
    "visualizer.show()  # Draw/show/show the data"
   ]
  },
  {
   "cell_type": "code",
   "execution_count": 9,
   "metadata": {},
   "outputs": [
    {
     "data": {
      "text/plain": [
       "<AxesSubplot:title={'center':'Silhouette Plot of MiniBatchKMeans Clustering for 1000 Samples in 12 Centers'}, xlabel='silhouette coefficient values', ylabel='cluster label'>"
      ]
     },
     "execution_count": 9,
     "metadata": {},
     "output_type": "execute_result"
    }
   ],
   "source": [
    "model = MiniBatchKMeans(n_clusters=12, random_state=0)\n",
    "visualizer = SilhouetteVisualizer(model, ax=ax)\n",
    "\n",
    "visualizer.fit(X)  # Fit the training data to the visualizer\n",
    "visualizer.show()  # Draw/show/show the data"
   ]
  },
  {
   "cell_type": "code",
   "execution_count": null,
   "metadata": {},
   "outputs": [],
   "source": []
  }
 ],
 "metadata": {
  "kernelspec": {
   "display_name": "Python 3 (ipykernel)",
   "language": "python",
   "name": "python3"
  },
  "language_info": {
   "codemirror_mode": {
    "name": "ipython",
    "version": 3
   },
   "file_extension": ".py",
   "mimetype": "text/x-python",
   "name": "python",
   "nbconvert_exporter": "python",
   "pygments_lexer": "ipython3",
   "version": "3.9.6"
  }
 },
 "nbformat": 4,
 "nbformat_minor": 4
}
